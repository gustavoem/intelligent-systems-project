{
 "cells": [
  {
   "cell_type": "code",
   "execution_count": 115,
   "id": "dfd58c40",
   "metadata": {},
   "outputs": [],
   "source": [
    "import os\n",
    "import pandas"
   ]
  },
  {
   "cell_type": "markdown",
   "id": "6aa94905",
   "metadata": {},
   "source": [
    "# 1. Carregamento dos dados\n",
    "\n",
    "Vamos começar nosso pipeline lendo o conjunto de dados fornecidos. Vamos aproveitar para ver o que tipo de informação esse conjunto de dados tem."
   ]
  },
  {
   "cell_type": "code",
   "execution_count": 116,
   "id": "ed1f1121",
   "metadata": {},
   "outputs": [
    {
     "data": {
      "text/html": [
       "<div>\n",
       "<style scoped>\n",
       "    .dataframe tbody tr th:only-of-type {\n",
       "        vertical-align: middle;\n",
       "    }\n",
       "\n",
       "    .dataframe tbody tr th {\n",
       "        vertical-align: top;\n",
       "    }\n",
       "\n",
       "    .dataframe thead th {\n",
       "        text-align: right;\n",
       "    }\n",
       "</style>\n",
       "<table border=\"1\" class=\"dataframe\">\n",
       "  <thead>\n",
       "    <tr style=\"text-align: right;\">\n",
       "      <th></th>\n",
       "      <th>product_id</th>\n",
       "      <th>seller_id</th>\n",
       "      <th>query</th>\n",
       "      <th>search_page</th>\n",
       "      <th>position</th>\n",
       "      <th>title</th>\n",
       "      <th>concatenated_tags</th>\n",
       "      <th>creation_date</th>\n",
       "      <th>price</th>\n",
       "      <th>weight</th>\n",
       "      <th>express_delivery</th>\n",
       "      <th>minimum_quantity</th>\n",
       "      <th>view_counts</th>\n",
       "      <th>order_counts</th>\n",
       "      <th>category</th>\n",
       "    </tr>\n",
       "  </thead>\n",
       "  <tbody>\n",
       "    <tr>\n",
       "      <th>0</th>\n",
       "      <td>11394449</td>\n",
       "      <td>8324141</td>\n",
       "      <td>espirito santo</td>\n",
       "      <td>2</td>\n",
       "      <td>6</td>\n",
       "      <td>Mandala Espírito Santo</td>\n",
       "      <td>mandala mdf</td>\n",
       "      <td>2015-11-14 19:42:12</td>\n",
       "      <td>171.890000</td>\n",
       "      <td>1200.0</td>\n",
       "      <td>1</td>\n",
       "      <td>4</td>\n",
       "      <td>244</td>\n",
       "      <td>NaN</td>\n",
       "      <td>Decoração</td>\n",
       "    </tr>\n",
       "    <tr>\n",
       "      <th>1</th>\n",
       "      <td>15534262</td>\n",
       "      <td>6939286</td>\n",
       "      <td>cartao de visita</td>\n",
       "      <td>2</td>\n",
       "      <td>0</td>\n",
       "      <td>Cartão de Visita</td>\n",
       "      <td>cartao visita panfletos tag adesivos copos lon...</td>\n",
       "      <td>2018-04-04 20:55:07</td>\n",
       "      <td>77.670000</td>\n",
       "      <td>8.0</td>\n",
       "      <td>1</td>\n",
       "      <td>5</td>\n",
       "      <td>124</td>\n",
       "      <td>NaN</td>\n",
       "      <td>Papel e Cia</td>\n",
       "    </tr>\n",
       "    <tr>\n",
       "      <th>2</th>\n",
       "      <td>16153119</td>\n",
       "      <td>9835835</td>\n",
       "      <td>expositor de esmaltes</td>\n",
       "      <td>1</td>\n",
       "      <td>38</td>\n",
       "      <td>Organizador expositor p/ 70 esmaltes</td>\n",
       "      <td>expositor</td>\n",
       "      <td>2018-10-13 20:57:07</td>\n",
       "      <td>73.920006</td>\n",
       "      <td>2709.0</td>\n",
       "      <td>1</td>\n",
       "      <td>1</td>\n",
       "      <td>59</td>\n",
       "      <td>NaN</td>\n",
       "      <td>Outros</td>\n",
       "    </tr>\n",
       "    <tr>\n",
       "      <th>3</th>\n",
       "      <td>15877252</td>\n",
       "      <td>8071206</td>\n",
       "      <td>medidas lencol para berco americano</td>\n",
       "      <td>1</td>\n",
       "      <td>6</td>\n",
       "      <td>Jogo de Lençol Berço Estampado</td>\n",
       "      <td>t jogo lencol menino lencol berco</td>\n",
       "      <td>2017-02-27 13:26:03</td>\n",
       "      <td>118.770004</td>\n",
       "      <td>0.0</td>\n",
       "      <td>1</td>\n",
       "      <td>1</td>\n",
       "      <td>180</td>\n",
       "      <td>1.0</td>\n",
       "      <td>Bebê</td>\n",
       "    </tr>\n",
       "    <tr>\n",
       "      <th>4</th>\n",
       "      <td>15917108</td>\n",
       "      <td>7200773</td>\n",
       "      <td>adesivo box banheiro</td>\n",
       "      <td>3</td>\n",
       "      <td>38</td>\n",
       "      <td>ADESIVO BOX DE BANHEIRO</td>\n",
       "      <td>adesivo box banheiro</td>\n",
       "      <td>2017-05-09 13:18:38</td>\n",
       "      <td>191.810000</td>\n",
       "      <td>507.0</td>\n",
       "      <td>1</td>\n",
       "      <td>6</td>\n",
       "      <td>34</td>\n",
       "      <td>NaN</td>\n",
       "      <td>Decoração</td>\n",
       "    </tr>\n",
       "    <tr>\n",
       "      <th>...</th>\n",
       "      <td>...</td>\n",
       "      <td>...</td>\n",
       "      <td>...</td>\n",
       "      <td>...</td>\n",
       "      <td>...</td>\n",
       "      <td>...</td>\n",
       "      <td>...</td>\n",
       "      <td>...</td>\n",
       "      <td>...</td>\n",
       "      <td>...</td>\n",
       "      <td>...</td>\n",
       "      <td>...</td>\n",
       "      <td>...</td>\n",
       "      <td>...</td>\n",
       "      <td>...</td>\n",
       "    </tr>\n",
       "    <tr>\n",
       "      <th>38502</th>\n",
       "      <td>16561714</td>\n",
       "      <td>9813770</td>\n",
       "      <td>nossa senhora de perolas</td>\n",
       "      <td>1</td>\n",
       "      <td>7</td>\n",
       "      <td>Imagem Nossa Senhora Aparecida em Perolas 25cm</td>\n",
       "      <td>senhora aparecida bebe perolas</td>\n",
       "      <td>2018-04-02 19:43:07</td>\n",
       "      <td>71.200000</td>\n",
       "      <td>706.0</td>\n",
       "      <td>1</td>\n",
       "      <td>4</td>\n",
       "      <td>315</td>\n",
       "      <td>15.0</td>\n",
       "      <td>Decoração</td>\n",
       "    </tr>\n",
       "    <tr>\n",
       "      <th>38503</th>\n",
       "      <td>12716324</td>\n",
       "      <td>6483096</td>\n",
       "      <td>lembrancinha personalizada dia dos pais</td>\n",
       "      <td>1</td>\n",
       "      <td>27</td>\n",
       "      <td>LEMBRANCINHA - DIA DOS PAIS</td>\n",
       "      <td>lembrancinhas</td>\n",
       "      <td>2018-07-10 11:41:08</td>\n",
       "      <td>14.650000</td>\n",
       "      <td>7.0</td>\n",
       "      <td>1</td>\n",
       "      <td>26</td>\n",
       "      <td>1288</td>\n",
       "      <td>17.0</td>\n",
       "      <td>Lembrancinhas</td>\n",
       "    </tr>\n",
       "    <tr>\n",
       "      <th>38504</th>\n",
       "      <td>972256</td>\n",
       "      <td>4840665</td>\n",
       "      <td>copo metalizado</td>\n",
       "      <td>1</td>\n",
       "      <td>3</td>\n",
       "      <td>Copos Metalizados - Rosé</td>\n",
       "      <td>despedida bianca metalizados xvdakaw lembranci...</td>\n",
       "      <td>2018-02-17 15:53:23</td>\n",
       "      <td>11.580000</td>\n",
       "      <td>25.0</td>\n",
       "      <td>1</td>\n",
       "      <td>104</td>\n",
       "      <td>306</td>\n",
       "      <td>NaN</td>\n",
       "      <td>Lembrancinhas</td>\n",
       "    </tr>\n",
       "    <tr>\n",
       "      <th>38505</th>\n",
       "      <td>7291315</td>\n",
       "      <td>6420917</td>\n",
       "      <td>festa do pijama menino</td>\n",
       "      <td>1</td>\n",
       "      <td>36</td>\n",
       "      <td>Kit Festa do Pijama Meninos</td>\n",
       "      <td>festa pijama</td>\n",
       "      <td>2016-08-21 22:33:59</td>\n",
       "      <td>131.330000</td>\n",
       "      <td>0.0</td>\n",
       "      <td>1</td>\n",
       "      <td>11</td>\n",
       "      <td>55</td>\n",
       "      <td>NaN</td>\n",
       "      <td>Lembrancinhas</td>\n",
       "    </tr>\n",
       "    <tr>\n",
       "      <th>38506</th>\n",
       "      <td>15908997</td>\n",
       "      <td>8784924</td>\n",
       "      <td>festa tema musical</td>\n",
       "      <td>1</td>\n",
       "      <td>6</td>\n",
       "      <td>Mini Baleiro Instrumentos Musicais</td>\n",
       "      <td>tema musica instrumentos musicais festa musica</td>\n",
       "      <td>2018-07-16 02:42:46</td>\n",
       "      <td>3.200000</td>\n",
       "      <td>8.0</td>\n",
       "      <td>1</td>\n",
       "      <td>10</td>\n",
       "      <td>185</td>\n",
       "      <td>NaN</td>\n",
       "      <td>Lembrancinhas</td>\n",
       "    </tr>\n",
       "  </tbody>\n",
       "</table>\n",
       "<p>38507 rows × 15 columns</p>\n",
       "</div>"
      ],
      "text/plain": [
       "       product_id  seller_id                                    query  \\\n",
       "0        11394449    8324141                           espirito santo   \n",
       "1        15534262    6939286                         cartao de visita   \n",
       "2        16153119    9835835                    expositor de esmaltes   \n",
       "3        15877252    8071206      medidas lencol para berco americano   \n",
       "4        15917108    7200773                     adesivo box banheiro   \n",
       "...           ...        ...                                      ...   \n",
       "38502    16561714    9813770                 nossa senhora de perolas   \n",
       "38503    12716324    6483096  lembrancinha personalizada dia dos pais   \n",
       "38504      972256    4840665                          copo metalizado   \n",
       "38505     7291315    6420917                   festa do pijama menino   \n",
       "38506    15908997    8784924                       festa tema musical   \n",
       "\n",
       "       search_page  position                                           title  \\\n",
       "0                2         6                          Mandala Espírito Santo   \n",
       "1                2         0                                Cartão de Visita   \n",
       "2                1        38            Organizador expositor p/ 70 esmaltes   \n",
       "3                1         6                  Jogo de Lençol Berço Estampado   \n",
       "4                3        38                         ADESIVO BOX DE BANHEIRO   \n",
       "...            ...       ...                                             ...   \n",
       "38502            1         7  Imagem Nossa Senhora Aparecida em Perolas 25cm   \n",
       "38503            1        27                     LEMBRANCINHA - DIA DOS PAIS   \n",
       "38504            1         3                        Copos Metalizados - Rosé   \n",
       "38505            1        36                     Kit Festa do Pijama Meninos   \n",
       "38506            1         6              Mini Baleiro Instrumentos Musicais   \n",
       "\n",
       "                                       concatenated_tags        creation_date  \\\n",
       "0                                            mandala mdf  2015-11-14 19:42:12   \n",
       "1      cartao visita panfletos tag adesivos copos lon...  2018-04-04 20:55:07   \n",
       "2                                              expositor  2018-10-13 20:57:07   \n",
       "3                      t jogo lencol menino lencol berco  2017-02-27 13:26:03   \n",
       "4                                   adesivo box banheiro  2017-05-09 13:18:38   \n",
       "...                                                  ...                  ...   \n",
       "38502                     senhora aparecida bebe perolas  2018-04-02 19:43:07   \n",
       "38503                                      lembrancinhas  2018-07-10 11:41:08   \n",
       "38504  despedida bianca metalizados xvdakaw lembranci...  2018-02-17 15:53:23   \n",
       "38505                                       festa pijama  2016-08-21 22:33:59   \n",
       "38506     tema musica instrumentos musicais festa musica  2018-07-16 02:42:46   \n",
       "\n",
       "            price  weight  express_delivery  minimum_quantity  view_counts  \\\n",
       "0      171.890000  1200.0                 1                 4          244   \n",
       "1       77.670000     8.0                 1                 5          124   \n",
       "2       73.920006  2709.0                 1                 1           59   \n",
       "3      118.770004     0.0                 1                 1          180   \n",
       "4      191.810000   507.0                 1                 6           34   \n",
       "...           ...     ...               ...               ...          ...   \n",
       "38502   71.200000   706.0                 1                 4          315   \n",
       "38503   14.650000     7.0                 1                26         1288   \n",
       "38504   11.580000    25.0                 1               104          306   \n",
       "38505  131.330000     0.0                 1                11           55   \n",
       "38506    3.200000     8.0                 1                10          185   \n",
       "\n",
       "       order_counts       category  \n",
       "0               NaN      Decoração  \n",
       "1               NaN    Papel e Cia  \n",
       "2               NaN         Outros  \n",
       "3               1.0           Bebê  \n",
       "4               NaN      Decoração  \n",
       "...             ...            ...  \n",
       "38502          15.0      Decoração  \n",
       "38503          17.0  Lembrancinhas  \n",
       "38504           NaN  Lembrancinhas  \n",
       "38505           NaN  Lembrancinhas  \n",
       "38506           NaN  Lembrancinhas  \n",
       "\n",
       "[38507 rows x 15 columns]"
      ]
     },
     "execution_count": 116,
     "metadata": {},
     "output_type": "execute_result"
    }
   ],
   "source": [
    "dataset_path = os.getenv(\"DATASET_PATH\")\n",
    "full_dataset_df = pandas.read_csv(dataset_path)\n",
    "full_dataset_df"
   ]
  },
  {
   "cell_type": "markdown",
   "id": "44b0ade6",
   "metadata": {},
   "source": [
    "Para entender melhor o problema, vamos ver quais são as categorias desse conjunto de dados, e qual a distribuição dessas categorias."
   ]
  },
  {
   "cell_type": "code",
   "execution_count": 117,
   "id": "37f4fe70",
   "metadata": {},
   "outputs": [
    {
     "data": {
      "text/plain": [
       "category\n",
       "Bebê                   7026\n",
       "Bijuterias e Jóias      951\n",
       "Decoração              8846\n",
       "Lembrancinhas         17759\n",
       "Outros                 1148\n",
       "Papel e Cia            2777\n",
       "Name: product_id, dtype: int64"
      ]
     },
     "execution_count": 117,
     "metadata": {},
     "output_type": "execute_result"
    }
   ],
   "source": [
    "full_dataset_df[\"category\"].unique()\n",
    "full_dataset_df.groupby(\"category\").product_id.count()"
   ]
  },
  {
   "cell_type": "markdown",
   "id": "f4d9dced",
   "metadata": {},
   "source": [
    "- parece que não precisamos fazer nenhuma modificação nos rótulos, não existem versões duplicadas com mudanças pequenas.\n",
    "- todas categorias parecem ter um número razoável de amostras."
   ]
  },
  {
   "cell_type": "markdown",
   "id": "302cec2a",
   "metadata": {},
   "source": [
    "# 2. Transformação de dados"
   ]
  },
  {
   "cell_type": "markdown",
   "id": "e518efcd",
   "metadata": {},
   "source": [
    "Vamos separar nossos dados em conjunto de treino, teste e validação."
   ]
  },
  {
   "cell_type": "code",
   "execution_count": 118,
   "id": "75324560",
   "metadata": {},
   "outputs": [],
   "source": [
    "def split_train_test_validate(full_df):\n",
    "    shuffled_dataset_df = full_df.sample(frac=1).reset_index(drop=True)\n",
    "    train_cut_idx = int(len(full_df) * .6)\n",
    "    validation_cut_idx = train_cut_idx + int(len(full_df) * .2)\n",
    "    return (\n",
    "        full_df[:train_cut_idx],\n",
    "        full_df[train_cut_idx:validation_cut_idx],\n",
    "        full_df[validation_cut_idx:]\n",
    "    )\n",
    "\n",
    "train_data, test_data, validate_data = split_train_test_validate(full_dataset_df)\n",
    "assert(len(full_dataset_df) == len(train_data) + len(test_data) + len(validate_data))"
   ]
  },
  {
   "cell_type": "markdown",
   "id": "99a6b12d",
   "metadata": {},
   "source": [
    "Agora vamos definir o dado que será input no nosso modelo. Como já comentamos antes, não parece ser necessário fazer nenhuma modificação nos rótulos (`category`), mas para o conjunto de características vamos precisar fazer algumas mudanças.\n",
    "\n",
    "Por conhecimento prévio, e olhando a [descrição de cada coluna do conjunto de dados](https://github.com/elo7/data7_oss/tree/master/elo7-search), parece fazer sentido utilizar os campos de texto: `title`, com o título do produto, `concatenated_tags`, que são tags concatenadas, escolhidas pelo usuário, e `query` (?)"
   ]
  },
  {
   "cell_type": "code",
   "execution_count": 119,
   "id": "b5137c26",
   "metadata": {},
   "outputs": [],
   "source": [
    "def concatenate_text_columns(dataframe):\n",
    "    concatenated_text_information = dataframe[\"title\"] + \" \" + dataframe[\"query\"] + \" \" + dataframe[\"concatenated_tags\"].fillna(\"\")\n",
    "    return concatenated_text_information\n",
    "\n",
    "assert(concatenate_text_columns(train_data[:1])[0] == \"Mandala Espírito Santo espirito santo mandala mdf\")"
   ]
  },
  {
   "cell_type": "markdown",
   "id": "000b7cdf",
   "metadata": {},
   "source": [
    "Antes de criar nosso classificador, ainda precisamos transformar nossa feature em um vetor de valores númericos.\n",
    "\n",
    "Decidimos fazer essa transformação porque pretendemos usar um classificador SVM. Além disso, parece ser padrão pra aprendizado de máquina em documentos de texto (veja: [Working With Text Data](https://scikit-learn.org/stable/tutorial/text_analytics/working_with_text_data.html)).\n",
    "\n",
    "Para fazer essa transformação, vamos usar o conjunto de textos concatenados como nosso corpus, e, a partir de uma ordanação arbitrária de palavras, construir vetores caracteríscos que indicam na i-ésima posição, a frequência da i-ésima palavra.\n",
    "\n",
    "Obs: também testamos usar TF-IDF, mas a melhora no erro de teste foi menor que 1%, então decidimos usar apenas a frequência de palavras (TF) porque é uma transformação mais simples."
   ]
  },
  {
   "cell_type": "code",
   "execution_count": 128,
   "id": "84fdcfd6",
   "metadata": {},
   "outputs": [],
   "source": [
    "from sklearn.feature_extraction.text import CountVectorizer\n",
    "from sklearn.feature_extraction.text import TfidfTransformer\n",
    "\n",
    "\n",
    "train_concatenated_text = concatenate_text_columns(train_data)\n",
    "count_vectorizer = CountVectorizer()\n",
    "count_vectorizer.fit(train_concatenated_text)\n",
    "train_feature_wc = count_vectorizer.transform(train_concatenated_text)\n",
    "\n",
    "tf_transformer = TfidfTransformer(use_idf=False).fit(train_feature_wc)\n",
    "train_feature_tf = tf_transformer.transform(train_feature_wc)\n",
    "\n",
    "def feature_extractor(dataframe):\n",
    "    concatenated_text = concatenate_text_columns(dataframe)\n",
    "    wc_vector = count_vectorizer.transform(concatenated_text)\n",
    "    return tf_transformer.transform(wc_vector)\n"
   ]
  },
  {
   "cell_type": "markdown",
   "id": "09d3cdee",
   "metadata": {},
   "source": [
    "# 3. Modelagem\n",
    "\n",
    "Por simplicidade, vamos usar um classificador da classe Support Vector Machine (SVM). Vamos usar um kernel linear, também por simplicidade.\n",
    "Para selecionar o parâmetro de regularização C, vamos rodar um teste de validação cruzada com os dados de treinamento apenas."
   ]
  },
  {
   "cell_type": "code",
   "execution_count": 136,
   "id": "2cabfd10",
   "metadata": {},
   "outputs": [
    {
     "name": "stdout",
     "output_type": "stream",
     "text": [
      "{'mean_fit_time': array([19.72704096, 17.37211232]), 'std_fit_time': array([2.18840638, 1.49689006]), 'mean_score_time': array([3.72496014, 3.43935695]), 'std_score_time': array([0.46328979, 0.24394717]), 'param_C': masked_array(data=[1, 10],\n",
      "             mask=[False, False],\n",
      "       fill_value='?',\n",
      "            dtype=object), 'params': [{'C': 1}, {'C': 10}], 'split0_test_score': array([0.88011253, 0.88595542]), 'split1_test_score': array([0.88400779, 0.8909327 ]), 'split2_test_score': array([0.87318762, 0.88227656]), 'split3_test_score': array([0.87881411, 0.88206016]), 'split4_test_score': array([0.87229437, 0.87532468]), 'mean_test_score': array([0.87768328, 0.8833099 ]), 'std_test_score': array([0.0043916 , 0.00512834]), 'rank_test_score': array([2, 1], dtype=int32)}\n"
     ]
    }
   ],
   "source": [
    "from sklearn import svm\n",
    "from sklearn.model_selection import GridSearchCV\n",
    "\n",
    "\n",
    "classifier = svm.SVC(kernel=\"linear\")\n",
    "parameters = {\"C\": [1, 10]}\n",
    "cv_classifier = GridSearchCV(classifier, parameters)\n",
    "cv_classifier.fit(train_feature_tf, train_data[\"category\"])\n",
    "\n",
    "print(cv_classifier.cv_results_)"
   ]
  },
  {
   "cell_type": "markdown",
   "id": "0f14b51c",
   "metadata": {},
   "source": [
    "Olhando o `mean_test_score`, podemos ver que com `C = 10` tivemos uma pequena melhora no classificador, comparado a `C = 1`. Inclusive, em todos os splits feitos na validação cruzada, o valor de `C = 10` parece ter sido melhor"
   ]
  },
  {
   "cell_type": "code",
   "execution_count": 142,
   "id": "62f7fea9",
   "metadata": {},
   "outputs": [
    {
     "data": {
      "text/plain": [
       "0.8923516426438125"
      ]
     },
     "execution_count": 142,
     "metadata": {},
     "output_type": "execute_result"
    }
   ],
   "source": [
    "# best estimator\n",
    "chosen_classifier = cv_classifier.best_estimator_\n",
    "\n",
    "# test error\n",
    "import numpy as np\n",
    "\n",
    "test_feature_tf = feature_extractor(test_data)\n",
    "predicted = chosen_classifier.predict(test_feature_tf)\n",
    "np.mean(predicted == test_data[\"category\"])"
   ]
  },
  {
   "cell_type": "markdown",
   "id": "c4f5dbaf",
   "metadata": {},
   "source": [
    "# 4. Validação do modelo"
   ]
  },
  {
   "cell_type": "markdown",
   "id": "aa8a916e",
   "metadata": {},
   "source": [
    "Agora que já escolhemos nosso modelo, vamos validá-lo"
   ]
  },
  {
   "cell_type": "code",
   "execution_count": 143,
   "id": "a5798d63",
   "metadata": {},
   "outputs": [
    {
     "data": {
      "text/plain": [
       "0.8962607115035056"
      ]
     },
     "execution_count": 143,
     "metadata": {},
     "output_type": "execute_result"
    }
   ],
   "source": [
    "validate_feature_tf = feature_extractor(validate_data)\n",
    "predicted = chosen_classifier.predict(validate_feature_tf)\n",
    "np.mean(predicted == validate_data[\"category\"])"
   ]
  },
  {
   "cell_type": "markdown",
   "id": "e1c17af0",
   "metadata": {},
   "source": [
    "Nosso modelo escolhido **acertou a categoria de 89% dos produtos** do conjunto de validação."
   ]
  },
  {
   "cell_type": "markdown",
   "id": "615305f9",
   "metadata": {},
   "source": [
    "# 5. Exportação do modelo\n",
    "Vamos usar um arquivo pickle para exportar nosso modelo"
   ]
  },
  {
   "cell_type": "code",
   "execution_count": null,
   "id": "6dbd4a8d",
   "metadata": {},
   "outputs": [],
   "source": []
  }
 ],
 "metadata": {
  "kernelspec": {
   "display_name": "Python 3 (ipykernel)",
   "language": "python",
   "name": "python3"
  },
  "language_info": {
   "codemirror_mode": {
    "name": "ipython",
    "version": 3
   },
   "file_extension": ".py",
   "mimetype": "text/x-python",
   "name": "python",
   "nbconvert_exporter": "python",
   "pygments_lexer": "ipython3",
   "version": "3.9.1"
  }
 },
 "nbformat": 4,
 "nbformat_minor": 5
}
